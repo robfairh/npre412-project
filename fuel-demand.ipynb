{
 "cells": [
  {
   "cell_type": "code",
   "execution_count": 6,
   "metadata": {},
   "outputs": [
    {
     "name": "stdout",
     "output_type": "stream",
     "text": [
      "1945\n"
     ]
    }
   ],
   "source": [
    "import pandas as pd\n",
    "df = pd.read_csv ('supplied-motor-gasoline.csv')\n",
    "\n",
    "date = df['date'].tolist()\n",
    "volume = df['finished-motor-gasoline-supplied(thousand-barrels)'].tolist()  # [thousand-barrels]\n",
    "volume *= 1e3  # [barrels]\n",
    "volume *= 42\n",
    "\n",
    "\n"
   ]
  },
  {
   "cell_type": "code",
   "execution_count": 3,
   "metadata": {},
   "outputs": [
    {
     "name": "stdout",
     "output_type": "stream",
     "text": [
      "    date  finished-motor-gasoline-supplied(thousand-barrels)\n",
      "0   1945                                             579343 \n",
      "1   1946                                             722512 \n",
      "2   1947                                             773408 \n",
      "3   1948                                             834550 \n",
      "4   1949                                             879721 \n",
      "..   ...                                                ... \n",
      "70  2015                                            3350106 \n",
      "71  2016                                            3410051 \n",
      "72  2017                                            3404186 \n",
      "73  2018                                            3405079 \n",
      "74  2019                                            3385017 \n",
      "\n",
      "[75 rows x 2 columns]\n"
     ]
    }
   ],
   "source": []
  },
  {
   "cell_type": "code",
   "execution_count": null,
   "metadata": {},
   "outputs": [],
   "source": []
  }
 ],
 "metadata": {
  "kernelspec": {
   "display_name": "Python 3",
   "language": "python",
   "name": "python3"
  },
  "language_info": {
   "codemirror_mode": {
    "name": "ipython",
    "version": 3
   },
   "file_extension": ".py",
   "mimetype": "text/x-python",
   "name": "python",
   "nbconvert_exporter": "python",
   "pygments_lexer": "ipython3",
   "version": "3.7.6"
  }
 },
 "nbformat": 4,
 "nbformat_minor": 4
}
